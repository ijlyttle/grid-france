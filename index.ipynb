{
 "cells": [
  {
   "cell_type": "raw",
   "metadata": {},
   "source": [
    "---\n",
    "title: \"France Grid\"\n",
    "---"
   ]
  },
  {
   "cell_type": "markdown",
   "metadata": {},
   "source": [
    "<!-- @format -->\n",
    "\n",
    "The goal of this repository is to execute and document a data pipeline for aspects of the French electrical grid.\n",
    "These are data made available publicly via [APIs from RTE France](https://data.rte-france.com/).\n",
    "\n",
    "I understand [RTE France's terms and conditions](https://data.rte-france.com/cgu) allow for republication, so long as the data are credited to RTE France, and are not distorted. [Open-Meteo](https://open-meteo.com/) offers similar terms-of-use. This effort complies with those terms.\n",
    "\n",
    "When finished, this site will publish tables as parquet files:\n",
    "\n",
    "- generation sources, e.g. wind, solar\n",
    "- exchanges with other countries, e.g. England, Belgium\n",
    "- outdoor temperature in Paris, from [Open-Meteo](https://open-meteo.com/) (I know there's more to France than Paris)\n",
    "\n",
    "Using GitHub Actions, these tables will be updated on a schedule, likely daily.\n",
    "\n",
    "This will also be an opportunity for me to learn how to use\n",
    "\n",
    "- [Quarto](https://quarto.org/) with Python and Jupyter notebooks\n",
    "- [Requests](https://requests.readthedocs.io/en/latest/)\n",
    "- [Polars](https://www.pola.rs/)\n",
    "\n",
    "## Secrets\n",
    "\n",
    "To interact with the APIs, the code in this report will expect certain environment variables to be set:\n",
    "\n",
    "- `RTE_FRANCE_BASE64` base-64 encoding available from RTE application-page\n",
    "\n",
    "These allow you access to an application (that you will have to configure on your RTE France account); this application will need access to these APIs:\n",
    "\n",
    "- [Actual Generation](https://data.rte-france.com/catalog/-/api/generation/Actual-Generation/v1.1)\n",
    "- [Physical Flow](https://data.rte-france.com/catalog/-/api/exchanges/Physical-Flow/v1.0)\n"
   ]
  },
  {
   "cell_type": "markdown",
   "metadata": {},
   "source": [
    "## Data available"
   ]
  },
  {
   "cell_type": "code",
   "execution_count": 1,
   "metadata": {},
   "outputs": [],
   "source": [
    "import polars as pl\n",
    "from pyprojroot.here import here"
   ]
  },
  {
   "cell_type": "markdown",
   "metadata": {},
   "source": [
    "### Generation"
   ]
  },
  {
   "cell_type": "code",
   "execution_count": 2,
   "metadata": {},
   "outputs": [],
   "source": [
    "generation = pl.read_parquet(here(\"data/generation.parquet\"))"
   ]
  },
  {
   "cell_type": "code",
   "execution_count": 4,
   "metadata": {},
   "outputs": [
    {
     "data": {
      "text/html": [
       "<div><style>\n",
       ".dataframe > thead > tr > th,\n",
       ".dataframe > tbody > tr > td {\n",
       "  text-align: right;\n",
       "}\n",
       "</style>\n",
       "<small>shape: (10, 4)</small><table border=\"1\" class=\"dataframe\"><thead><tr><th>type</th><th>interval_start</th><th>interval_end</th><th>count</th></tr><tr><td>str</td><td>datetime[ms, Europe/Paris]</td><td>datetime[ms, Europe/Paris]</td><td>u32</td></tr></thead><tbody><tr><td>&quot;WIND&quot;</td><td>2017-01-01 00:00:00 CET</td><td>2017-01-15 00:00:00 CET</td><td>1344</td></tr><tr><td>&quot;FOSSIL_OIL&quot;</td><td>2017-01-01 00:00:00 CET</td><td>2017-01-15 00:00:00 CET</td><td>1344</td></tr><tr><td>&quot;FOSSIL_GAS&quot;</td><td>2017-01-01 00:00:00 CET</td><td>2017-01-15 00:00:00 CET</td><td>1344</td></tr><tr><td>&quot;NUCLEAR&quot;</td><td>2017-01-01 00:00:00 CET</td><td>2017-01-15 00:00:00 CET</td><td>1344</td></tr><tr><td>&quot;EXCHANGE&quot;</td><td>2017-01-01 00:00:00 CET</td><td>2017-01-15 00:00:00 CET</td><td>1344</td></tr><tr><td>&quot;SOLAR&quot;</td><td>2017-01-01 00:00:00 CET</td><td>2017-01-15 00:00:00 CET</td><td>1344</td></tr><tr><td>&quot;HYDRO&quot;</td><td>2017-01-01 00:00:00 CET</td><td>2017-01-15 00:00:00 CET</td><td>1344</td></tr><tr><td>&quot;PUMPING&quot;</td><td>2017-01-01 00:00:00 CET</td><td>2017-01-15 00:00:00 CET</td><td>1344</td></tr><tr><td>&quot;BIOENERGY&quot;</td><td>2017-01-01 00:00:00 CET</td><td>2017-01-15 00:00:00 CET</td><td>1344</td></tr><tr><td>&quot;FOSSIL_HARD_CO…</td><td>2017-01-01 00:00:00 CET</td><td>2017-01-15 00:00:00 CET</td><td>1344</td></tr></tbody></table></div>"
      ],
      "text/plain": [
       "shape: (10, 4)\n",
       "┌──────────────────┬────────────────────────────┬────────────────────────────┬───────┐\n",
       "│ type             ┆ interval_start             ┆ interval_end               ┆ count │\n",
       "│ ---              ┆ ---                        ┆ ---                        ┆ ---   │\n",
       "│ str              ┆ datetime[ms, Europe/Paris] ┆ datetime[ms, Europe/Paris] ┆ u32   │\n",
       "╞══════════════════╪════════════════════════════╪════════════════════════════╪═══════╡\n",
       "│ WIND             ┆ 2017-01-01 00:00:00 CET    ┆ 2017-01-15 00:00:00 CET    ┆ 1344  │\n",
       "│ FOSSIL_OIL       ┆ 2017-01-01 00:00:00 CET    ┆ 2017-01-15 00:00:00 CET    ┆ 1344  │\n",
       "│ FOSSIL_GAS       ┆ 2017-01-01 00:00:00 CET    ┆ 2017-01-15 00:00:00 CET    ┆ 1344  │\n",
       "│ NUCLEAR          ┆ 2017-01-01 00:00:00 CET    ┆ 2017-01-15 00:00:00 CET    ┆ 1344  │\n",
       "│ …                ┆ …                          ┆ …                          ┆ …     │\n",
       "│ HYDRO            ┆ 2017-01-01 00:00:00 CET    ┆ 2017-01-15 00:00:00 CET    ┆ 1344  │\n",
       "│ PUMPING          ┆ 2017-01-01 00:00:00 CET    ┆ 2017-01-15 00:00:00 CET    ┆ 1344  │\n",
       "│ BIOENERGY        ┆ 2017-01-01 00:00:00 CET    ┆ 2017-01-15 00:00:00 CET    ┆ 1344  │\n",
       "│ FOSSIL_HARD_COAL ┆ 2017-01-01 00:00:00 CET    ┆ 2017-01-15 00:00:00 CET    ┆ 1344  │\n",
       "└──────────────────┴────────────────────────────┴────────────────────────────┴───────┘"
      ]
     },
     "execution_count": 4,
     "metadata": {},
     "output_type": "execute_result"
    }
   ],
   "source": [
    "generation.drop_nulls().groupby(pl.col(\"type\")).agg(\n",
    "    pl.col(\"interval_start\").min(),\n",
    "    pl.col(\"interval_end\").max(),\n",
    "    pl.count(),\n",
    ")"
   ]
  }
 ],
 "metadata": {
  "kernelspec": {
   "display_name": "env",
   "language": "python",
   "name": "python3"
  },
  "language_info": {
   "codemirror_mode": {
    "name": "ipython",
    "version": 3
   },
   "file_extension": ".py",
   "mimetype": "text/x-python",
   "name": "python",
   "nbconvert_exporter": "python",
   "pygments_lexer": "ipython3",
   "version": "3.11.2"
  },
  "orig_nbformat": 4
 },
 "nbformat": 4,
 "nbformat_minor": 2
}
