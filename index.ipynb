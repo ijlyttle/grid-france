{
 "cells": [
  {
   "cell_type": "raw",
   "metadata": {},
   "source": [
    "---\n",
    "title: \"France Grid\"\n",
    "---"
   ]
  },
  {
   "cell_type": "markdown",
   "metadata": {},
   "source": [
    "<!-- @format -->\n",
    "\n",
    "The goal of this repository is to execute and document a data pipeline for aspects of the French electrical grid.\n",
    "These are data made available publicly via [APIs from RTE France](https://data.rte-france.com/).\n",
    "\n",
    "I understand [RTE France's terms and conditions](https://data.rte-france.com/cgu) allow for republication, so long as the data are credited to RTE France, and are not distorted. [Open-Meteo](https://open-meteo.com/) offers similar terms-of-use. This effort complies with those terms.\n",
    "\n",
    "When finished, this site will publish tables as parquet files:\n",
    "\n",
    "- generation sources, e.g. wind, solar\n",
    "- exchanges with other countries, e.g. England, Belgium\n",
    "- outdoor temperature in Paris, from [Open-Meteo](https://open-meteo.com/) (I know there's more to France than Paris)\n",
    "\n",
    "Using GitHub Actions, these tables will be updated on a schedule, likely daily.\n",
    "\n",
    "This will also be an opportunity for me to learn how to use\n",
    "\n",
    "- [Quarto](https://quarto.org/) with Python and Jupyter notebooks\n",
    "- [Requests](https://requests.readthedocs.io/en/latest/)\n",
    "- [Polars](https://www.pola.rs/)\n",
    "\n",
    "## Secrets\n",
    "\n",
    "To interact with the APIs, the code in this report will expect certain environment variables to be set:\n",
    "\n",
    "- `RTE_FRANCE_BASE64` base-64 encoding available from RTE application-page\n",
    "\n",
    "These allow you access to an application (that you will have to configure on your RTE France account); this application will need access to these APIs:\n",
    "\n",
    "- [Actual Generation](https://data.rte-france.com/catalog/-/api/generation/Actual-Generation/v1.1)\n",
    "- [Physical Flow](https://data.rte-france.com/catalog/-/api/exchanges/Physical-Flow/v1.0)\n"
   ]
  }
 ],
 "metadata": {
  "kernelspec": {
   "display_name": "env",
   "language": "python",
   "name": "python3"
  },
  "language_info": {
   "codemirror_mode": {
    "name": "ipython",
    "version": 3
   },
   "file_extension": ".py",
   "mimetype": "text/x-python",
   "name": "python",
   "nbconvert_exporter": "python",
   "pygments_lexer": "ipython3",
   "version": "3.11.2"
  },
  "orig_nbformat": 4
 },
 "nbformat": 4,
 "nbformat_minor": 2
}
