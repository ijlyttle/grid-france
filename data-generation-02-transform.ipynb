{
 "cells": [
  {
   "cell_type": "raw",
   "metadata": {},
   "source": [
    "---\n",
    "title: \"Generation Transform\"\n",
    "execute: \n",
    "  enabled: false\n",
    "---"
   ]
  },
  {
   "cell_type": "markdown",
   "metadata": {},
   "source": [
    "<!-- @format -->\n",
    "\n",
    "The eventual goal is to update a parquet file with generation data from the French grid.\n",
    "\n",
    "- Try to read a (deployed) data file to get start date, use default otherwise.\n",
    "- Use minimum of today's date or start-date plus one month as end date.\n",
    "- Assemble query for API\n",
    "- Parse response, concatenate to existing data\n",
    "- Write parquet file, add to top-level `resources:` in YAML\n",
    "\n",
    "The generation data is available from 2017-01-01, onwards.\n"
   ]
  },
  {
   "cell_type": "code",
   "execution_count": 2,
   "metadata": {},
   "outputs": [],
   "source": [
    "import os\n",
    "from datetime import datetime, timedelta\n",
    "from zoneinfo import ZoneInfo\n",
    "import requests\n",
    "import functools, itertools\n",
    "import polars as pl\n",
    "from pyprojroot.here import here"
   ]
  },
  {
   "cell_type": "markdown",
   "metadata": {},
   "source": [
    "<!-- @format -->\n",
    "\n",
    "Let's determine the `start_date` and the `end_date` for the request:\n",
    "\n",
    "- the start date will be the larger of:\n",
    "\n",
    "  - 2017-01-01\n",
    "  - the most-recent date in the dataset, less a day\n",
    "\n",
    "- the end date will be the smaller of:\n",
    "  - the start date plus 14 days\n",
    "  - the current date\n",
    "\n",
    "Dates are expressed as midnight, Paris time.\n"
   ]
  },
  {
   "cell_type": "code",
   "execution_count": 3,
   "metadata": {},
   "outputs": [],
   "source": [
    "tz_local = ZoneInfo(\"Europe/Paris\")\n",
    "\n",
    "# timedelta() seems to use periods rather than intervals;\n",
    "# i.e., it takes DST into account and returns same wall-clock time.\n",
    "date_start = datetime(2017, 1, 1, tzinfo=tz_local)\n",
    "date_end = date_start + timedelta(days=14)\n",
    "\n",
    "# Todo, modify start, end based on file, today's date"
   ]
  },
  {
   "cell_type": "code",
   "execution_count": 4,
   "metadata": {},
   "outputs": [
    {
     "data": {
      "text/plain": [
       "'2017-01-01T00:00:00+01:00'"
      ]
     },
     "execution_count": 4,
     "metadata": {},
     "output_type": "execute_result"
    }
   ],
   "source": [
    "date_start.isoformat()"
   ]
  },
  {
   "cell_type": "markdown",
   "metadata": {},
   "source": [
    "<!-- @format -->\n",
    "\n",
    "Then, let's request a token:\n"
   ]
  },
  {
   "cell_type": "code",
   "execution_count": 5,
   "metadata": {},
   "outputs": [],
   "source": [
    "auth = requests.post(\n",
    "    \"https://digital.iservices.rte-france.com/token/oauth/\",\n",
    "    headers={\n",
    "        \"Authorization\": f'Basic {os.environ[\"RTE_FRANCE_BASE64\"]}',\n",
    "        \"Content-Type\": \"application/x-www-form-urlencoded\",\n",
    "    },\n",
    ")\n",
    "token = auth.json()[\"access_token\"]"
   ]
  },
  {
   "cell_type": "markdown",
   "metadata": {},
   "source": [
    "<!-- @format -->\n",
    "\n",
    "We compose a request, gather the response, then pull out the data:\n"
   ]
  },
  {
   "cell_type": "code",
   "execution_count": 6,
   "metadata": {},
   "outputs": [],
   "source": [
    "endpoint = \"https://digital.iservices.rte-france.com/open_api/actual_generation/v1/generation_mix_15min_time_scale\"\n",
    "\n",
    "data_raw = requests.get(\n",
    "    f\"{endpoint}/?start_date={date_start.isoformat()}&end_date={date_end.isoformat()}\",\n",
    "    headers={\n",
    "        \"Host\": \"digital.iservices.rte-france.com\",\n",
    "        \"Authorization\": f\"Bearer {token}\",\n",
    "    },\n",
    ")\n",
    "array = data_raw.json()[\"generation_mix_15min_time_scale\"]"
   ]
  },
  {
   "cell_type": "markdown",
   "metadata": {},
   "source": [
    "<!-- @format -->\n",
    "\n",
    "Here, I use some functional-programming tools (because that's what I know) to make one observation per interval and production-type:\n"
   ]
  },
  {
   "cell_type": "code",
   "execution_count": 7,
   "metadata": {},
   "outputs": [],
   "source": [
    "temp = list(\n",
    "    map(\n",
    "        lambda x: list(\n",
    "            map(\n",
    "                lambda v: {\n",
    "                    \"type\": x[\"production_type\"],\n",
    "                    \"interval_start\": v[\"start_date\"],\n",
    "                    \"interval_end\": v[\"end_date\"],\n",
    "                    \"generation\": v[\"value\"],\n",
    "                },\n",
    "                x[\"values\"],\n",
    "            )\n",
    "        ),\n",
    "        array,\n",
    "    )\n",
    ")\n",
    "\n",
    "fixed = functools.reduce(itertools.chain, temp)"
   ]
  },
  {
   "cell_type": "markdown",
   "metadata": {},
   "source": [
    "<!-- @format -->\n",
    "\n",
    "We're now in a form to convert this to a Polars DataFrame, to parse, etc.\n"
   ]
  },
  {
   "cell_type": "code",
   "execution_count": 8,
   "metadata": {},
   "outputs": [],
   "source": [
    "df_raw = pl.DataFrame(fixed)"
   ]
  },
  {
   "cell_type": "code",
   "execution_count": 9,
   "metadata": {},
   "outputs": [],
   "source": [
    "df = df_raw.with_columns(\n",
    "    [\n",
    "        pl.col(\"interval_start\")\n",
    "        .str.strptime(pl.Datetime(\"ms\"))\n",
    "        .dt.convert_time_zone(time_zone=\"Europe/Paris\"),\n",
    "        pl.col(\"interval_end\")\n",
    "        .str.strptime(pl.Datetime(\"ms\"))\n",
    "        .dt.convert_time_zone(time_zone=\"Europe/Paris\"),\n",
    "    ]\n",
    ")"
   ]
  },
  {
   "cell_type": "code",
   "execution_count": 21,
   "metadata": {},
   "outputs": [
    {
     "data": {
      "text/html": [
       "<div><style>\n",
       ".dataframe > thead > tr > th,\n",
       ".dataframe > tbody > tr > td {\n",
       "  text-align: right;\n",
       "}\n",
       "</style>\n",
       "<small>shape: (10, 5)</small><table border=\"1\" class=\"dataframe\"><thead><tr><th>type</th><th>interval_start</th><th>interval_end</th><th>null_count</th><th>month</th></tr><tr><td>str</td><td>datetime[ms, Europe/Paris]</td><td>datetime[ms, Europe/Paris]</td><td>u32</td><td>u32</td></tr></thead><tbody><tr><td>&quot;FOSSIL_HARD_CO…</td><td>2017-01-01 00:00:00 CET</td><td>2017-01-15 00:00:00 CET</td><td>0</td><td>1</td></tr><tr><td>&quot;SOLAR&quot;</td><td>2017-01-01 00:00:00 CET</td><td>2017-01-15 00:00:00 CET</td><td>0</td><td>1</td></tr><tr><td>&quot;WIND&quot;</td><td>2017-01-01 00:00:00 CET</td><td>2017-01-15 00:00:00 CET</td><td>0</td><td>1</td></tr><tr><td>&quot;PUMPING&quot;</td><td>2017-01-01 00:00:00 CET</td><td>2017-01-15 00:00:00 CET</td><td>0</td><td>1</td></tr><tr><td>&quot;FOSSIL_GAS&quot;</td><td>2017-01-01 00:00:00 CET</td><td>2017-01-15 00:00:00 CET</td><td>0</td><td>1</td></tr><tr><td>&quot;EXCHANGE&quot;</td><td>2017-01-01 00:00:00 CET</td><td>2017-01-15 00:00:00 CET</td><td>0</td><td>1</td></tr><tr><td>&quot;NUCLEAR&quot;</td><td>2017-01-01 00:00:00 CET</td><td>2017-01-15 00:00:00 CET</td><td>0</td><td>1</td></tr><tr><td>&quot;FOSSIL_OIL&quot;</td><td>2017-01-01 00:00:00 CET</td><td>2017-01-15 00:00:00 CET</td><td>0</td><td>1</td></tr><tr><td>&quot;HYDRO&quot;</td><td>2017-01-01 00:00:00 CET</td><td>2017-01-15 00:00:00 CET</td><td>0</td><td>1</td></tr><tr><td>&quot;BIOENERGY&quot;</td><td>2017-01-01 00:00:00 CET</td><td>2017-01-15 00:00:00 CET</td><td>0</td><td>1</td></tr></tbody></table></div>"
      ],
      "text/plain": [
       "shape: (10, 5)\n",
       "┌──────────────────┬────────────────────────────┬────────────────────────────┬────────────┬───────┐\n",
       "│ type             ┆ interval_start             ┆ interval_end               ┆ null_count ┆ month │\n",
       "│ ---              ┆ ---                        ┆ ---                        ┆ ---        ┆ ---   │\n",
       "│ str              ┆ datetime[ms, Europe/Paris] ┆ datetime[ms, Europe/Paris] ┆ u32        ┆ u32   │\n",
       "╞══════════════════╪════════════════════════════╪════════════════════════════╪════════════╪═══════╡\n",
       "│ FOSSIL_HARD_COAL ┆ 2017-01-01 00:00:00 CET    ┆ 2017-01-15 00:00:00 CET    ┆ 0          ┆ 1     │\n",
       "│ SOLAR            ┆ 2017-01-01 00:00:00 CET    ┆ 2017-01-15 00:00:00 CET    ┆ 0          ┆ 1     │\n",
       "│ WIND             ┆ 2017-01-01 00:00:00 CET    ┆ 2017-01-15 00:00:00 CET    ┆ 0          ┆ 1     │\n",
       "│ PUMPING          ┆ 2017-01-01 00:00:00 CET    ┆ 2017-01-15 00:00:00 CET    ┆ 0          ┆ 1     │\n",
       "│ …                ┆ …                          ┆ …                          ┆ …          ┆ …     │\n",
       "│ NUCLEAR          ┆ 2017-01-01 00:00:00 CET    ┆ 2017-01-15 00:00:00 CET    ┆ 0          ┆ 1     │\n",
       "│ FOSSIL_OIL       ┆ 2017-01-01 00:00:00 CET    ┆ 2017-01-15 00:00:00 CET    ┆ 0          ┆ 1     │\n",
       "│ HYDRO            ┆ 2017-01-01 00:00:00 CET    ┆ 2017-01-15 00:00:00 CET    ┆ 0          ┆ 1     │\n",
       "│ BIOENERGY        ┆ 2017-01-01 00:00:00 CET    ┆ 2017-01-15 00:00:00 CET    ┆ 0          ┆ 1     │\n",
       "└──────────────────┴────────────────────────────┴────────────────────────────┴────────────┴───────┘"
      ]
     },
     "execution_count": 21,
     "metadata": {},
     "output_type": "execute_result"
    }
   ],
   "source": [
    "df.groupby(pl.col(\"type\")).agg(\n",
    "    pl.col(\"interval_start\").min(),\n",
    "    pl.col(\"interval_end\").max(),\n",
    "    pl.col(\"generation\").null_count().alias(\"null_count\"),\n",
    ").with_columns(\n",
    "    pl.col(\"interval_start\").dt.month().alias(\"month\")\n",
    ")"
   ]
  },
  {
   "cell_type": "code",
   "execution_count": 11,
   "metadata": {},
   "outputs": [],
   "source": [
    "df.write_parquet(here(\"data/generation.parquet\"))"
   ]
  },
  {
   "cell_type": "markdown",
   "metadata": {},
   "source": [
    "Try out this [link to the parquet file](/data/generation.parquet)."
   ]
  },
  {
   "cell_type": "code",
   "execution_count": 23,
   "metadata": {},
   "outputs": [
    {
     "data": {
      "text/plain": [
       "'<div><style>\\n.dataframe > thead > tr > th,\\n.dataframe > tbody > tr > td {\\n  text-align: right;\\n}\\n</style>\\n<small>shape: (13_440, 4)</small><table border=\"1\" class=\"dataframe\"><thead><tr><th>type</th><th>interval_start</th><th>interval_end</th><th>generation</th></tr><tr><td>str</td><td>datetime[ms, Europe/Paris]</td><td>datetime[ms, Europe/Paris]</td><td>i64</td></tr></thead><tbody><tr><td>&quot;BIOENERGY&quot;</td><td>2017-01-01 00:00:00 CET</td><td>2017-01-01 00:15:00 CET</td><td>766</td></tr><tr><td>&quot;BIOENERGY&quot;</td><td>2017-01-01 00:15:00 CET</td><td>2017-01-01 00:30:00 CET</td><td>765</td></tr><tr><td>&quot;BIOENERGY&quot;</td><td>2017-01-01 00:30:00 CET</td><td>2017-01-01 00:45:00 CET</td><td>767</td></tr><tr><td>&quot;BIOENERGY&quot;</td><td>2017-01-01 00:45:00 CET</td><td>2017-01-01 01:00:00 CET</td><td>767</td></tr><tr><td>&quot;BIOENERGY&quot;</td><td>2017-01-01 01:00:00 CET</td><td>2017-01-01 01:15:00 CET</td><td>767</td></tr><tr><td>&quot;BIOENERGY&quot;</td><td>2017-01-01 01:15:00 CET</td><td>2017-01-01 01:30:00 CET</td><td>767</td></tr><tr><td>&quot;BIOENERGY&quot;</td><td>2017-01-01 01:30:00 CET</td><td>2017-01-01 01:45:00 CET</td><td>766</td></tr><tr><td>&quot;BIOENERGY&quot;</td><td>2017-01-01 01:45:00 CET</td><td>2017-01-01 02:00:00 CET</td><td>767</td></tr><tr><td>&quot;BIOENERGY&quot;</td><td>2017-01-01 02:00:00 CET</td><td>2017-01-01 02:15:00 CET</td><td>767</td></tr><tr><td>&quot;BIOENERGY&quot;</td><td>2017-01-01 02:15:00 CET</td><td>2017-01-01 02:30:00 CET</td><td>767</td></tr><tr><td>&quot;BIOENERGY&quot;</td><td>2017-01-01 02:30:00 CET</td><td>2017-01-01 02:45:00 CET</td><td>768</td></tr><tr><td>&quot;BIOENERGY&quot;</td><td>2017-01-01 02:45:00 CET</td><td>2017-01-01 03:00:00 CET</td><td>767</td></tr><tr><td>&hellip;</td><td>&hellip;</td><td>&hellip;</td><td>&hellip;</td></tr><tr><td>&quot;WIND&quot;</td><td>2017-01-14 21:00:00 CET</td><td>2017-01-14 21:15:00 CET</td><td>3458</td></tr><tr><td>&quot;WIND&quot;</td><td>2017-01-14 21:15:00 CET</td><td>2017-01-14 21:30:00 CET</td><td>3401</td></tr><tr><td>&quot;WIND&quot;</td><td>2017-01-14 21:30:00 CET</td><td>2017-01-14 21:45:00 CET</td><td>3372</td></tr><tr><td>&quot;WIND&quot;</td><td>2017-01-14 21:45:00 CET</td><td>2017-01-14 22:00:00 CET</td><td>3344</td></tr><tr><td>&quot;WIND&quot;</td><td>2017-01-14 22:00:00 CET</td><td>2017-01-14 22:15:00 CET</td><td>3355</td></tr><tr><td>&quot;WIND&quot;</td><td>2017-01-14 22:15:00 CET</td><td>2017-01-14 22:30:00 CET</td><td>3397</td></tr><tr><td>&quot;WIND&quot;</td><td>2017-01-14 22:30:00 CET</td><td>2017-01-14 22:45:00 CET</td><td>3361</td></tr><tr><td>&quot;WIND&quot;</td><td>2017-01-14 22:45:00 CET</td><td>2017-01-14 23:00:00 CET</td><td>3270</td></tr><tr><td>&quot;WIND&quot;</td><td>2017-01-14 23:00:00 CET</td><td>2017-01-14 23:15:00 CET</td><td>3217</td></tr><tr><td>&quot;WIND&quot;</td><td>2017-01-14 23:15:00 CET</td><td>2017-01-14 23:30:00 CET</td><td>3232</td></tr><tr><td>&quot;WIND&quot;</td><td>2017-01-14 23:30:00 CET</td><td>2017-01-14 23:45:00 CET</td><td>3148</td></tr><tr><td>&quot;WIND&quot;</td><td>2017-01-14 23:45:00 CET</td><td>2017-01-15 00:00:00 CET</td><td>3105</td></tr></tbody></table></div>'"
      ]
     },
     "execution_count": 23,
     "metadata": {},
     "output_type": "execute_result"
    }
   ],
   "source": [
    "df._repr_html_()"
   ]
  },
  {
   "cell_type": "code",
   "execution_count": 20,
   "metadata": {},
   "outputs": [
    {
     "ename": "ComputeError",
     "evalue": "AttributeError: 'Series' object has no attribute 'pl'",
     "output_type": "error",
     "traceback": [
      "\u001b[0;31m---------------------------------------------------------------------------\u001b[0m",
      "\u001b[0;31mComputeError\u001b[0m                              Traceback (most recent call last)",
      "Cell \u001b[0;32mIn[20], line 1\u001b[0m\n\u001b[0;32m----> 1\u001b[0m df_fake_utc \u001b[39m=\u001b[39m df\u001b[39m.\u001b[39;49mwith_columns(\n\u001b[1;32m      2\u001b[0m     pl\u001b[39m.\u001b[39;49mcol([\u001b[39m\"\u001b[39;49m\u001b[39minterval_start\u001b[39;49m\u001b[39m\"\u001b[39;49m, \u001b[39m\"\u001b[39;49m\u001b[39minterval_end\u001b[39;49m\u001b[39m\"\u001b[39;49m])\u001b[39m.\u001b[39;49mmap(\u001b[39mlambda\u001b[39;49;00m x: x\u001b[39m.\u001b[39;49mpl\u001b[39m.\u001b[39;49mExpr\u001b[39m.\u001b[39;49mdt\u001b[39m.\u001b[39;49mreplace_time_zone(time_zone\u001b[39m=\u001b[39;49m\u001b[39m\"\u001b[39;49m\u001b[39mUTC\u001b[39;49m\u001b[39m\"\u001b[39;49m)),\n\u001b[1;32m      3\u001b[0m )\n\u001b[1;32m      4\u001b[0m df_fake_utc\n",
      "File \u001b[0;32m~/repos/public/grid-france/env/lib/python3.11/site-packages/polars/dataframe/frame.py:7633\u001b[0m, in \u001b[0;36mDataFrame.with_columns\u001b[0;34m(self, *exprs, **named_exprs)\u001b[0m\n\u001b[1;32m   7482\u001b[0m \u001b[39mdef\u001b[39;00m \u001b[39mwith_columns\u001b[39m(\n\u001b[1;32m   7483\u001b[0m     \u001b[39mself\u001b[39m,\n\u001b[1;32m   7484\u001b[0m     \u001b[39m*\u001b[39mexprs: IntoExpr \u001b[39m|\u001b[39m Iterable[IntoExpr],\n\u001b[1;32m   7485\u001b[0m     \u001b[39m*\u001b[39m\u001b[39m*\u001b[39mnamed_exprs: IntoExpr,\n\u001b[1;32m   7486\u001b[0m ) \u001b[39m-\u001b[39m\u001b[39m>\u001b[39m DataFrame:\n\u001b[1;32m   7487\u001b[0m \u001b[39m    \u001b[39m\u001b[39m\"\"\"\u001b[39;00m\n\u001b[1;32m   7488\u001b[0m \u001b[39m    Add columns to this DataFrame.\u001b[39;00m\n\u001b[1;32m   7489\u001b[0m \n\u001b[0;32m   (...)\u001b[0m\n\u001b[1;32m   7628\u001b[0m \n\u001b[1;32m   7629\u001b[0m \u001b[39m    \"\"\"\u001b[39;00m\n\u001b[1;32m   7630\u001b[0m     \u001b[39mreturn\u001b[39;00m (\n\u001b[1;32m   7631\u001b[0m         \u001b[39mself\u001b[39;49m\u001b[39m.\u001b[39;49mlazy()\n\u001b[1;32m   7632\u001b[0m         \u001b[39m.\u001b[39;49mwith_columns(\u001b[39m*\u001b[39;49mexprs, \u001b[39m*\u001b[39;49m\u001b[39m*\u001b[39;49mnamed_exprs)\n\u001b[0;32m-> 7633\u001b[0m         \u001b[39m.\u001b[39;49mcollect(no_optimization\u001b[39m=\u001b[39;49m\u001b[39mTrue\u001b[39;49;00m)\n\u001b[1;32m   7634\u001b[0m     )\n",
      "File \u001b[0;32m~/repos/public/grid-france/env/lib/python3.11/site-packages/polars/utils/deprecation.py:93\u001b[0m, in \u001b[0;36mdeprecate_renamed_parameter.<locals>.decorate.<locals>.wrapper\u001b[0;34m(*args, **kwargs)\u001b[0m\n\u001b[1;32m     88\u001b[0m \u001b[39m@wraps\u001b[39m(function)\n\u001b[1;32m     89\u001b[0m \u001b[39mdef\u001b[39;00m \u001b[39mwrapper\u001b[39m(\u001b[39m*\u001b[39margs: P\u001b[39m.\u001b[39margs, \u001b[39m*\u001b[39m\u001b[39m*\u001b[39mkwargs: P\u001b[39m.\u001b[39mkwargs) \u001b[39m-\u001b[39m\u001b[39m>\u001b[39m T:\n\u001b[1;32m     90\u001b[0m     _rename_keyword_argument(\n\u001b[1;32m     91\u001b[0m         old_name, new_name, kwargs, function\u001b[39m.\u001b[39m\u001b[39m__name__\u001b[39m, version\n\u001b[1;32m     92\u001b[0m     )\n\u001b[0;32m---> 93\u001b[0m     \u001b[39mreturn\u001b[39;00m function(\u001b[39m*\u001b[39;49margs, \u001b[39m*\u001b[39;49m\u001b[39m*\u001b[39;49mkwargs)\n",
      "File \u001b[0;32m~/repos/public/grid-france/env/lib/python3.11/site-packages/polars/lazyframe/frame.py:1695\u001b[0m, in \u001b[0;36mLazyFrame.collect\u001b[0;34m(self, type_coercion, predicate_pushdown, projection_pushdown, simplify_expression, no_optimization, slice_pushdown, comm_subplan_elim, comm_subexpr_elim, streaming)\u001b[0m\n\u001b[1;32m   1683\u001b[0m     comm_subplan_elim \u001b[39m=\u001b[39m \u001b[39mFalse\u001b[39;00m\n\u001b[1;32m   1685\u001b[0m ldf \u001b[39m=\u001b[39m \u001b[39mself\u001b[39m\u001b[39m.\u001b[39m_ldf\u001b[39m.\u001b[39moptimization_toggle(\n\u001b[1;32m   1686\u001b[0m     type_coercion,\n\u001b[1;32m   1687\u001b[0m     predicate_pushdown,\n\u001b[0;32m   (...)\u001b[0m\n\u001b[1;32m   1693\u001b[0m     streaming,\n\u001b[1;32m   1694\u001b[0m )\n\u001b[0;32m-> 1695\u001b[0m \u001b[39mreturn\u001b[39;00m wrap_df(ldf\u001b[39m.\u001b[39mcollect())\n",
      "\u001b[0;31mComputeError\u001b[0m: AttributeError: 'Series' object has no attribute 'pl'"
     ]
    }
   ],
   "source": [
    "df_fake_utc = df.with_columns(\n",
    "    pl.col([\"interval_start\", \"interval_end\"]).map(lambda x: x.pl.Expr.dt.replace_time_zone(time_zone=\"UTC\")),\n",
    ")\n",
    "df_fake_utc"
   ]
  }
 ],
 "metadata": {
  "kernelspec": {
   "display_name": "env",
   "language": "python",
   "name": "python3"
  },
  "language_info": {
   "codemirror_mode": {
    "name": "ipython",
    "version": 3
   },
   "file_extension": ".py",
   "mimetype": "text/x-python",
   "name": "python",
   "nbconvert_exporter": "python",
   "pygments_lexer": "ipython3",
   "version": "3.11.2"
  }
 },
 "nbformat": 4,
 "nbformat_minor": 2
}
