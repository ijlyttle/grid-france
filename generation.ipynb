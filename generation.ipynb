{
 "cells": [
  {
   "cell_type": "raw",
   "metadata": {},
   "source": [
    "---\n",
    "title: \"Generation\"\n",
    "execute: \n",
    "  enabled: true\n",
    "---"
   ]
  },
  {
   "cell_type": "markdown",
   "metadata": {},
   "source": [
    "<!-- @format -->\n",
    "\n",
    "The eventual goal is to update a parquet file with generation data from the French grid.\n",
    "Once I have made a first step, I will map out a bunch of steps. \n"
   ]
  },
  {
   "cell_type": "code",
   "execution_count": 1,
   "metadata": {},
   "outputs": [],
   "source": [
    "import os\n",
    "import requests\n",
    "import functools\n",
    "import polars as pl"
   ]
  },
  {
   "cell_type": "code",
   "execution_count": 2,
   "metadata": {},
   "outputs": [],
   "source": [
    "r = requests.post(\n",
    "    \"https://digital.iservices.rte-france.com/token/oauth/\",\n",
    "    headers={\n",
    "        \"Authorization\": f'Basic {os.environ[\"RTE_FRANCE_BASE64\"]}',\n",
    "        \"Content-Type\": \"application/x-www-form-urlencoded\",\n",
    "    },\n",
    ")"
   ]
  },
  {
   "cell_type": "code",
   "execution_count": 3,
   "metadata": {},
   "outputs": [],
   "source": [
    "token = r.json()[\"access_token\"]"
   ]
  },
  {
   "cell_type": "code",
   "execution_count": 4,
   "metadata": {},
   "outputs": [],
   "source": [
    "r_data = requests.get(\n",
    "    \"https://digital.iservices.rte-france.com/open_api/actual_generation/v1/generation_mix_15min_time_scale/\",\n",
    "    headers={\n",
    "        \"Host\": \"digital.iservices.rte-france.com\",\n",
    "        \"Authorization\": f\"Bearer {token}\",\n",
    "    },\n",
    ")"
   ]
  },
  {
   "cell_type": "code",
   "execution_count": 5,
   "metadata": {},
   "outputs": [],
   "source": [
    "array = r_data.json()[\"generation_mix_15min_time_scale\"]"
   ]
  },
  {
   "cell_type": "code",
   "execution_count": 6,
   "metadata": {},
   "outputs": [],
   "source": [
    "temp = list(\n",
    "    map(\n",
    "        lambda x: list(\n",
    "            map(\n",
    "                lambda v: {\n",
    "                    \"type\": x[\"production_type\"],\n",
    "                    \"interval_start\": v[\"start_date\"],\n",
    "                    \"interval_end\": v[\"end_date\"],\n",
    "                    \"generation\": v[\"value\"],\n",
    "                },\n",
    "                x[\"values\"],\n",
    "            )\n",
    "        ),\n",
    "        array,\n",
    "    )\n",
    ")"
   ]
  },
  {
   "cell_type": "code",
   "execution_count": 7,
   "metadata": {},
   "outputs": [],
   "source": [
    "fixed = functools.reduce(lambda x, y: list(x, y), temp)"
   ]
  },
  {
   "cell_type": "code",
   "execution_count": 8,
   "metadata": {},
   "outputs": [],
   "source": [
    "df = pl.DataFrame(fixed)"
   ]
  },
  {
   "cell_type": "code",
   "execution_count": 9,
   "metadata": {},
   "outputs": [
    {
     "data": {
      "text/html": [
       "<div><style>\n",
       ".dataframe > thead > tr > th,\n",
       ".dataframe > tbody > tr > td {\n",
       "  text-align: right;\n",
       "}\n",
       "</style>\n",
       "<small>shape: (96, 4)</small><table border=\"1\" class=\"dataframe\"><thead><tr><th>type</th><th>interval_start</th><th>interval_end</th><th>generation</th></tr><tr><td>str</td><td>datetime[ms, Europe/Paris]</td><td>datetime[ms, Europe/Paris]</td><td>i64</td></tr></thead><tbody><tr><td>&quot;BIOENERGY&quot;</td><td>2023-08-17 00:00:00 CEST</td><td>2023-08-17 00:15:00 CEST</td><td>0</td></tr><tr><td>&quot;BIOENERGY&quot;</td><td>2023-08-17 00:15:00 CEST</td><td>2023-08-17 00:30:00 CEST</td><td>0</td></tr><tr><td>&quot;BIOENERGY&quot;</td><td>2023-08-17 00:30:00 CEST</td><td>2023-08-17 00:45:00 CEST</td><td>0</td></tr><tr><td>&quot;BIOENERGY&quot;</td><td>2023-08-17 00:45:00 CEST</td><td>2023-08-17 01:00:00 CEST</td><td>0</td></tr><tr><td>&quot;BIOENERGY&quot;</td><td>2023-08-17 01:00:00 CEST</td><td>2023-08-17 01:15:00 CEST</td><td>0</td></tr><tr><td>&quot;BIOENERGY&quot;</td><td>2023-08-17 01:15:00 CEST</td><td>2023-08-17 01:30:00 CEST</td><td>0</td></tr><tr><td>&quot;BIOENERGY&quot;</td><td>2023-08-17 01:30:00 CEST</td><td>2023-08-17 01:45:00 CEST</td><td>0</td></tr><tr><td>&quot;BIOENERGY&quot;</td><td>2023-08-17 01:45:00 CEST</td><td>2023-08-17 02:00:00 CEST</td><td>0</td></tr><tr><td>&quot;BIOENERGY&quot;</td><td>2023-08-17 02:00:00 CEST</td><td>2023-08-17 02:15:00 CEST</td><td>0</td></tr><tr><td>&quot;BIOENERGY&quot;</td><td>2023-08-17 02:15:00 CEST</td><td>2023-08-17 02:30:00 CEST</td><td>0</td></tr><tr><td>&quot;BIOENERGY&quot;</td><td>2023-08-17 02:30:00 CEST</td><td>2023-08-17 02:45:00 CEST</td><td>0</td></tr><tr><td>&quot;BIOENERGY&quot;</td><td>2023-08-17 02:45:00 CEST</td><td>2023-08-17 03:00:00 CEST</td><td>0</td></tr><tr><td>&hellip;</td><td>&hellip;</td><td>&hellip;</td><td>&hellip;</td></tr><tr><td>&quot;BIOENERGY&quot;</td><td>2023-08-17 21:00:00 CEST</td><td>2023-08-17 21:15:00 CEST</td><td>0</td></tr><tr><td>&quot;BIOENERGY&quot;</td><td>2023-08-17 21:15:00 CEST</td><td>2023-08-17 21:30:00 CEST</td><td>0</td></tr><tr><td>&quot;BIOENERGY&quot;</td><td>2023-08-17 21:30:00 CEST</td><td>2023-08-17 21:45:00 CEST</td><td>0</td></tr><tr><td>&quot;BIOENERGY&quot;</td><td>2023-08-17 21:45:00 CEST</td><td>2023-08-17 22:00:00 CEST</td><td>0</td></tr><tr><td>&quot;BIOENERGY&quot;</td><td>2023-08-17 22:00:00 CEST</td><td>2023-08-17 22:15:00 CEST</td><td>0</td></tr><tr><td>&quot;BIOENERGY&quot;</td><td>2023-08-17 22:15:00 CEST</td><td>2023-08-17 22:30:00 CEST</td><td>0</td></tr><tr><td>&quot;BIOENERGY&quot;</td><td>2023-08-17 22:30:00 CEST</td><td>2023-08-17 22:45:00 CEST</td><td>0</td></tr><tr><td>&quot;BIOENERGY&quot;</td><td>2023-08-17 22:45:00 CEST</td><td>2023-08-17 23:00:00 CEST</td><td>0</td></tr><tr><td>&quot;BIOENERGY&quot;</td><td>2023-08-17 23:00:00 CEST</td><td>2023-08-17 23:15:00 CEST</td><td>0</td></tr><tr><td>&quot;BIOENERGY&quot;</td><td>2023-08-17 23:15:00 CEST</td><td>2023-08-17 23:30:00 CEST</td><td>0</td></tr><tr><td>&quot;BIOENERGY&quot;</td><td>2023-08-17 23:30:00 CEST</td><td>2023-08-17 23:45:00 CEST</td><td>0</td></tr><tr><td>&quot;BIOENERGY&quot;</td><td>2023-08-17 23:45:00 CEST</td><td>2023-08-18 00:00:00 CEST</td><td>0</td></tr></tbody></table></div>"
      ],
      "text/plain": [
       "shape: (96, 4)\n",
       "┌───────────┬────────────────────────────┬────────────────────────────┬────────────┐\n",
       "│ type      ┆ interval_start             ┆ interval_end               ┆ generation │\n",
       "│ ---       ┆ ---                        ┆ ---                        ┆ ---        │\n",
       "│ str       ┆ datetime[ms, Europe/Paris] ┆ datetime[ms, Europe/Paris] ┆ i64        │\n",
       "╞═══════════╪════════════════════════════╪════════════════════════════╪════════════╡\n",
       "│ BIOENERGY ┆ 2023-08-17 00:00:00 CEST   ┆ 2023-08-17 00:15:00 CEST   ┆ 0          │\n",
       "│ BIOENERGY ┆ 2023-08-17 00:15:00 CEST   ┆ 2023-08-17 00:30:00 CEST   ┆ 0          │\n",
       "│ BIOENERGY ┆ 2023-08-17 00:30:00 CEST   ┆ 2023-08-17 00:45:00 CEST   ┆ 0          │\n",
       "│ BIOENERGY ┆ 2023-08-17 00:45:00 CEST   ┆ 2023-08-17 01:00:00 CEST   ┆ 0          │\n",
       "│ …         ┆ …                          ┆ …                          ┆ …          │\n",
       "│ BIOENERGY ┆ 2023-08-17 23:00:00 CEST   ┆ 2023-08-17 23:15:00 CEST   ┆ 0          │\n",
       "│ BIOENERGY ┆ 2023-08-17 23:15:00 CEST   ┆ 2023-08-17 23:30:00 CEST   ┆ 0          │\n",
       "│ BIOENERGY ┆ 2023-08-17 23:30:00 CEST   ┆ 2023-08-17 23:45:00 CEST   ┆ 0          │\n",
       "│ BIOENERGY ┆ 2023-08-17 23:45:00 CEST   ┆ 2023-08-18 00:00:00 CEST   ┆ 0          │\n",
       "└───────────┴────────────────────────────┴────────────────────────────┴────────────┘"
      ]
     },
     "execution_count": 9,
     "metadata": {},
     "output_type": "execute_result"
    }
   ],
   "source": [
    "df.select(\n",
    "    [\n",
    "        pl.col(\"type\"),\n",
    "        pl.col(\"interval_start\")\n",
    "        .str.strptime(pl.Datetime(\"ms\"))\n",
    "        .dt.convert_time_zone(time_zone=\"Europe/Paris\"),\n",
    "        pl.col(\"interval_end\")\n",
    "        .str.strptime(pl.Datetime(\"ms\"))\n",
    "        .dt.convert_time_zone(time_zone=\"Europe/Paris\"),\n",
    "        pl.col(\"generation\"),\n",
    "    ]\n",
    ")"
   ]
  }
 ],
 "metadata": {
  "kernelspec": {
   "display_name": "env",
   "language": "python",
   "name": "python3"
  },
  "language_info": {
   "codemirror_mode": {
    "name": "ipython",
    "version": 3
   },
   "file_extension": ".py",
   "mimetype": "text/x-python",
   "name": "python",
   "nbconvert_exporter": "python",
   "pygments_lexer": "ipython3",
   "version": "3.11.2"
  }
 },
 "nbformat": 4,
 "nbformat_minor": 2
}
