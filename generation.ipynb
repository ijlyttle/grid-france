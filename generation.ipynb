{
 "cells": [
  {
   "cell_type": "raw",
   "metadata": {},
   "source": [
    "---\n",
    "title: \"Generation\"\n",
    "execute: \n",
    "  enabled: true\n",
    "---"
   ]
  },
  {
   "cell_type": "markdown",
   "metadata": {},
   "source": [
    "<!-- @format -->\n",
    "\n",
    "The eventual goal is to update a parquet file with generation data from the French grid.\n",
    "\n",
    "- Try to read a (deployed) data file to get start date, use default otherwise.\n",
    "- Use minimum of today's date or start-date plus one month as end date.\n",
    "- Assemble query for API\n",
    "- Parse response, concatenate to existing data\n",
    "- Write parquet file, add to top-level `resources:` in YAML\n",
    "\n",
    "The generation data is available from 2017-01-01, onwards.\n"
   ]
  },
  {
   "cell_type": "code",
   "execution_count": 1,
   "metadata": {},
   "outputs": [],
   "source": [
    "import os\n",
    "from datetime import datetime, timedelta\n",
    "from zoneinfo import ZoneInfo\n",
    "import requests\n",
    "import functools, itertools\n",
    "import polars as pl\n",
    "from pyprojroot.here import here"
   ]
  },
  {
   "cell_type": "markdown",
   "metadata": {},
   "source": [
    "<!-- @format -->\n",
    "\n",
    "Let's determine the `start_date` and the `end_date` for the request:\n",
    "\n",
    "- the start date will be the larger of:\n",
    "\n",
    "  - 2017-01-01\n",
    "  - the most-recent date in the dataset, less a day\n",
    "\n",
    "- the end date will be the smaller of:\n",
    "  - the start date plus 14 days\n",
    "  - the current date\n",
    "\n",
    "Dates are expressed as midnight, Paris time.\n"
   ]
  },
  {
   "cell_type": "code",
   "execution_count": 2,
   "metadata": {},
   "outputs": [],
   "source": [
    "tz_local = ZoneInfo(\"Europe/Paris\")\n",
    "\n",
    "# timedelta() seems to use periods rather than intervals;\n",
    "# i.e., it takes DST into account and returns same wall-clock time.\n",
    "date_start = datetime(2017, 1, 1, tzinfo=tz_local)\n",
    "date_end = date_start + timedelta(days=14)\n",
    "\n",
    "# Todo, modify start, end based on file, today's date"
   ]
  },
  {
   "cell_type": "code",
   "execution_count": 3,
   "metadata": {},
   "outputs": [
    {
     "data": {
      "text/plain": [
       "'2017-01-01T00:00:00+01:00'"
      ]
     },
     "execution_count": 3,
     "metadata": {},
     "output_type": "execute_result"
    }
   ],
   "source": [
    "date_start.isoformat()"
   ]
  },
  {
   "cell_type": "markdown",
   "metadata": {},
   "source": [
    "<!-- @format -->\n",
    "\n",
    "Then, let's request a token:\n"
   ]
  },
  {
   "cell_type": "code",
   "execution_count": 4,
   "metadata": {},
   "outputs": [],
   "source": [
    "auth = requests.post(\n",
    "    \"https://digital.iservices.rte-france.com/token/oauth/\",\n",
    "    headers={\n",
    "        \"Authorization\": f'Basic {os.environ[\"RTE_FRANCE_BASE64\"]}',\n",
    "        \"Content-Type\": \"application/x-www-form-urlencoded\",\n",
    "    },\n",
    ")\n",
    "token = auth.json()[\"access_token\"]"
   ]
  },
  {
   "cell_type": "markdown",
   "metadata": {},
   "source": [
    "<!-- @format -->\n",
    "\n",
    "We compose a request, gather the response, then pull out the data:\n"
   ]
  },
  {
   "cell_type": "code",
   "execution_count": 5,
   "metadata": {},
   "outputs": [],
   "source": [
    "endpoint = \"https://digital.iservices.rte-france.com/open_api/actual_generation/v1/generation_mix_15min_time_scale\"\n",
    "\n",
    "data_raw = requests.get(\n",
    "    f\"{endpoint}/?start_date={date_start.isoformat()}&end_date={date_end.isoformat()}\",\n",
    "    headers={\n",
    "        \"Host\": \"digital.iservices.rte-france.com\",\n",
    "        \"Authorization\": f\"Bearer {token}\",\n",
    "    },\n",
    ")\n",
    "array = data_raw.json()[\"generation_mix_15min_time_scale\"]"
   ]
  },
  {
   "cell_type": "markdown",
   "metadata": {},
   "source": [
    "<!-- @format -->\n",
    "\n",
    "Here, I use some functional-programming tools (because that's what I know) to make one observation per interval and production-type:\n"
   ]
  },
  {
   "cell_type": "code",
   "execution_count": 6,
   "metadata": {},
   "outputs": [],
   "source": [
    "temp = list(\n",
    "    map(\n",
    "        lambda x: list(\n",
    "            map(\n",
    "                lambda v: {\n",
    "                    \"type\": x[\"production_type\"],\n",
    "                    \"interval_start\": v[\"start_date\"],\n",
    "                    \"interval_end\": v[\"end_date\"],\n",
    "                    \"generation\": v[\"value\"],\n",
    "                },\n",
    "                x[\"values\"],\n",
    "            )\n",
    "        ),\n",
    "        array,\n",
    "    )\n",
    ")\n",
    "\n",
    "fixed = functools.reduce(itertools.chain, temp)"
   ]
  },
  {
   "cell_type": "markdown",
   "metadata": {},
   "source": [
    "<!-- @format -->\n",
    "\n",
    "We're now in a form to convert this to a Polars DataFrame, to parse, etc.\n"
   ]
  },
  {
   "cell_type": "code",
   "execution_count": 7,
   "metadata": {},
   "outputs": [],
   "source": [
    "df_raw = pl.DataFrame(fixed)"
   ]
  },
  {
   "cell_type": "code",
   "execution_count": 8,
   "metadata": {},
   "outputs": [],
   "source": [
    "df = df_raw.with_columns(\n",
    "    pl.col(\"interval_start\")\n",
    "    .str.strptime(pl.Datetime(\"ms\"))\n",
    "    .dt.convert_time_zone(time_zone=\"Europe/Paris\"),\n",
    "    pl.col(\"interval_end\")\n",
    "    .str.strptime(pl.Datetime(\"ms\"))\n",
    "    .dt.convert_time_zone(time_zone=\"Europe/Paris\"),\n",
    ")"
   ]
  },
  {
   "cell_type": "code",
   "execution_count": 9,
   "metadata": {},
   "outputs": [
    {
     "data": {
      "text/html": [
       "<div><style>\n",
       ".dataframe > thead > tr > th,\n",
       ".dataframe > tbody > tr > td {\n",
       "  text-align: right;\n",
       "}\n",
       "</style>\n",
       "<small>shape: (10, 5)</small><table border=\"1\" class=\"dataframe\"><thead><tr><th>type</th><th>interval_start</th><th>interval_end</th><th>generation</th><th>count</th></tr><tr><td>str</td><td>datetime[ms, Europe/Paris]</td><td>datetime[ms, Europe/Paris]</td><td>i64</td><td>u32</td></tr></thead><tbody><tr><td>&quot;HYDRO&quot;</td><td>2017-01-01 00:00:00 CET</td><td>2017-01-15 00:00:00 CET</td><td>9193056</td><td>1344</td></tr><tr><td>&quot;FOSSIL_GAS&quot;</td><td>2017-01-01 00:00:00 CET</td><td>2017-01-15 00:00:00 CET</td><td>10229913</td><td>1344</td></tr><tr><td>&quot;NUCLEAR&quot;</td><td>2017-01-01 00:00:00 CET</td><td>2017-01-15 00:00:00 CET</td><td>71882034</td><td>1344</td></tr><tr><td>&quot;FOSSIL_HARD_CO…</td><td>2017-01-01 00:00:00 CET</td><td>2017-01-15 00:00:00 CET</td><td>2902415</td><td>1344</td></tr><tr><td>&quot;PUMPING&quot;</td><td>2017-01-01 00:00:00 CET</td><td>2017-01-15 00:00:00 CET</td><td>0</td><td>1344</td></tr><tr><td>&quot;BIOENERGY&quot;</td><td>2017-01-01 00:00:00 CET</td><td>2017-01-15 00:00:00 CET</td><td>1045899</td><td>1344</td></tr><tr><td>&quot;SOLAR&quot;</td><td>2017-01-01 00:00:00 CET</td><td>2017-01-15 00:00:00 CET</td><td>576204</td><td>1344</td></tr><tr><td>&quot;EXCHANGE&quot;</td><td>2017-01-01 00:00:00 CET</td><td>2017-01-15 00:00:00 CET</td><td>1840635</td><td>1344</td></tr><tr><td>&quot;FOSSIL_OIL&quot;</td><td>2017-01-01 00:00:00 CET</td><td>2017-01-15 00:00:00 CET</td><td>729073</td><td>1344</td></tr><tr><td>&quot;WIND&quot;</td><td>2017-01-01 00:00:00 CET</td><td>2017-01-15 00:00:00 CET</td><td>3472324</td><td>1344</td></tr></tbody></table></div>"
      ],
      "text/plain": [
       "shape: (10, 5)\n",
       "┌──────────────────┬────────────────────────────┬────────────────────────────┬────────────┬───────┐\n",
       "│ type             ┆ interval_start             ┆ interval_end               ┆ generation ┆ count │\n",
       "│ ---              ┆ ---                        ┆ ---                        ┆ ---        ┆ ---   │\n",
       "│ str              ┆ datetime[ms, Europe/Paris] ┆ datetime[ms, Europe/Paris] ┆ i64        ┆ u32   │\n",
       "╞══════════════════╪════════════════════════════╪════════════════════════════╪════════════╪═══════╡\n",
       "│ HYDRO            ┆ 2017-01-01 00:00:00 CET    ┆ 2017-01-15 00:00:00 CET    ┆ 9193056    ┆ 1344  │\n",
       "│ FOSSIL_GAS       ┆ 2017-01-01 00:00:00 CET    ┆ 2017-01-15 00:00:00 CET    ┆ 10229913   ┆ 1344  │\n",
       "│ NUCLEAR          ┆ 2017-01-01 00:00:00 CET    ┆ 2017-01-15 00:00:00 CET    ┆ 71882034   ┆ 1344  │\n",
       "│ FOSSIL_HARD_COAL ┆ 2017-01-01 00:00:00 CET    ┆ 2017-01-15 00:00:00 CET    ┆ 2902415    ┆ 1344  │\n",
       "│ …                ┆ …                          ┆ …                          ┆ …          ┆ …     │\n",
       "│ SOLAR            ┆ 2017-01-01 00:00:00 CET    ┆ 2017-01-15 00:00:00 CET    ┆ 576204     ┆ 1344  │\n",
       "│ EXCHANGE         ┆ 2017-01-01 00:00:00 CET    ┆ 2017-01-15 00:00:00 CET    ┆ 1840635    ┆ 1344  │\n",
       "│ FOSSIL_OIL       ┆ 2017-01-01 00:00:00 CET    ┆ 2017-01-15 00:00:00 CET    ┆ 729073     ┆ 1344  │\n",
       "│ WIND             ┆ 2017-01-01 00:00:00 CET    ┆ 2017-01-15 00:00:00 CET    ┆ 3472324    ┆ 1344  │\n",
       "└──────────────────┴────────────────────────────┴────────────────────────────┴────────────┴───────┘"
      ]
     },
     "execution_count": 9,
     "metadata": {},
     "output_type": "execute_result"
    }
   ],
   "source": [
    "df.drop_nulls().groupby(pl.col(\"type\")).agg(\n",
    "    pl.col(\"interval_start\").min(),\n",
    "    pl.col(\"interval_end\").max(),\n",
    "    pl.col(\"generation\").sum(),\n",
    "    pl.count(),\n",
    ")"
   ]
  },
  {
   "cell_type": "code",
   "execution_count": 10,
   "metadata": {},
   "outputs": [],
   "source": [
    "df.write_parquet(here(\"data/generation.parquet\"))"
   ]
  },
  {
   "cell_type": "markdown",
   "metadata": {},
   "source": [
    "Try out this [link to the parquet file](/data/generation.parquet)."
   ]
  }
 ],
 "metadata": {
  "kernelspec": {
   "display_name": "env",
   "language": "python",
   "name": "python3"
  },
  "language_info": {
   "codemirror_mode": {
    "name": "ipython",
    "version": 3
   },
   "file_extension": ".py",
   "mimetype": "text/x-python",
   "name": "python",
   "nbconvert_exporter": "python",
   "pygments_lexer": "ipython3",
   "version": "3.11.2"
  }
 },
 "nbformat": 4,
 "nbformat_minor": 2
}
