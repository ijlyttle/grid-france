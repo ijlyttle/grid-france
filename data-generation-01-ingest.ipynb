{
 "cells": [
  {
   "cell_type": "raw",
   "metadata": {},
   "source": [
    "---\n",
    "title: \"Generation Ingest\"\n",
    "---"
   ]
  },
  {
   "cell_type": "markdown",
   "metadata": {},
   "source": [
    "<!-- @format -->\n",
    "\n",
    "The eventual goal is to update a parquet file with generation data from the French grid.\n",
    "\n",
    "This is the **ingest** step:\n",
    "\n",
    "- Try to read a data file to get start date, use default otherwise.\n",
    "- Use minimum of today's date or start-date plus one month as end date.\n",
    "- Assemble query, execute for API\n",
    "\n",
    "In the **transform** step:\n",
    "\n",
    "- Parse response, concatenate to existing data, write to parquet files for both \"standard\" and \"fake UTC\" timestamps\n",
    "\n",
    "In the **publish** step\n",
    "\n",
    "- Add to top-level `resources:` in YAML\n",
    "\n",
    "The generation data is available from 2017-01-01, onwards.\n"
   ]
  },
  {
   "cell_type": "code",
   "execution_count": 1,
   "metadata": {},
   "outputs": [],
   "source": [
    "import os\n",
    "from datetime import datetime, timedelta\n",
    "from zoneinfo import ZoneInfo\n",
    "import requests\n",
    "import json\n",
    "import functools, itertools\n",
    "import polars as pl\n",
    "from pyprojroot.here import here"
   ]
  },
  {
   "cell_type": "markdown",
   "metadata": {},
   "source": [
    "<!-- @format -->\n",
    "\n",
    "Let's determine the `start_date` and the `end_date` for the request:\n",
    "\n",
    "- the start date will be the larger of:\n",
    "\n",
    "  - 2017-01-01\n",
    "  - the most-recent date in the dataset, less a day\n",
    "\n",
    "- the end date will be the smaller of:\n",
    "  - the start date plus 14 days\n",
    "  - the current date\n",
    "\n",
    "Dates are expressed as midnight, Paris time.\n"
   ]
  },
  {
   "cell_type": "code",
   "execution_count": 2,
   "metadata": {},
   "outputs": [],
   "source": [
    "# these feel like parameters\n",
    "tz_local = ZoneInfo(\"Europe/Paris\")\n",
    "file_transform_meta = here(\"data/02-transform/generation-meta.json\")"
   ]
  },
  {
   "cell_type": "code",
   "execution_count": 3,
   "metadata": {},
   "outputs": [],
   "source": [
    "# timedelta() seems to use periods rather than intervals;\n",
    "# i.e., it takes DST into account and returns same wall-clock time.\n",
    "\n",
    "date_start = datetime(2017, 1, 1, tzinfo=tz_local)\n",
    "\n",
    "# if file exists, get most-recent date\n",
    "if os.path.isfile(file_transform_meta):\n",
    "    1 + 1\n",
    "\n",
    "date_end = date_start + timedelta(days=14)\n",
    "\n",
    "# amend date_end if in the future\n",
    "date_today = datetime.now(tz_local).replace(hour=0, minute=0, second=0, microsecond=0)\n",
    "date_end = min(date_end, date_today)"
   ]
  },
  {
   "cell_type": "code",
   "execution_count": 4,
   "metadata": {},
   "outputs": [
    {
     "name": "stdout",
     "output_type": "stream",
     "text": [
      "2017-01-01T00:00:00+01:00\n",
      "2017-01-15T00:00:00+01:00\n"
     ]
    }
   ],
   "source": [
    "print(date_start.isoformat())\n",
    "print(date_end.isoformat())"
   ]
  },
  {
   "cell_type": "markdown",
   "metadata": {},
   "source": [
    "<!-- @format -->\n",
    "\n",
    "Then, let's request a token:\n"
   ]
  },
  {
   "cell_type": "code",
   "execution_count": 5,
   "metadata": {},
   "outputs": [],
   "source": [
    "auth = requests.post(\n",
    "    \"https://digital.iservices.rte-france.com/token/oauth/\",\n",
    "    headers={\n",
    "        \"Authorization\": f'Basic {os.environ[\"RTE_FRANCE_BASE64\"]}',\n",
    "        \"Content-Type\": \"application/x-www-form-urlencoded\",\n",
    "    },\n",
    ")\n",
    "token = auth.json()[\"access_token\"]"
   ]
  },
  {
   "cell_type": "markdown",
   "metadata": {},
   "source": [
    "<!-- @format -->\n",
    "\n",
    "We compose a request, gather the response, then pull out the data:\n"
   ]
  },
  {
   "cell_type": "code",
   "execution_count": 6,
   "metadata": {},
   "outputs": [],
   "source": [
    "endpoint = \"https://digital.iservices.rte-france.com/open_api/actual_generation/v1/generation_mix_15min_time_scale\"\n",
    "\n",
    "response = requests.get(\n",
    "    f\"{endpoint}/?start_date={date_start.isoformat()}&end_date={date_end.isoformat()}\",\n",
    "    headers={\n",
    "        \"Host\": \"digital.iservices.rte-france.com\",\n",
    "        \"Authorization\": f\"Bearer {token}\",\n",
    "    },\n",
    ")"
   ]
  },
  {
   "cell_type": "markdown",
   "metadata": {},
   "source": [
    "<!-- @format -->\n",
    "\n",
    "Check the response:\n"
   ]
  },
  {
   "cell_type": "code",
   "execution_count": 7,
   "metadata": {},
   "outputs": [
    {
     "data": {
      "text/plain": [
       "True"
      ]
     },
     "execution_count": 7,
     "metadata": {},
     "output_type": "execute_result"
    }
   ],
   "source": [
    "response.ok"
   ]
  },
  {
   "cell_type": "markdown",
   "metadata": {},
   "source": [
    "If the response is OK, write out JSON content to file:"
   ]
  },
  {
   "cell_type": "code",
   "execution_count": 8,
   "metadata": {},
   "outputs": [],
   "source": [
    "if response.ok:\n",
    "    array = response.json()[\"generation_mix_15min_time_scale\"]\n",
    "\n",
    "    with open(here(\"data/01-ingest/generation.json\"), \"w\") as file:\n",
    "        json.dump(array, file)"
   ]
  }
 ],
 "metadata": {
  "kernelspec": {
   "display_name": "env",
   "language": "python",
   "name": "python3"
  },
  "language_info": {
   "codemirror_mode": {
    "name": "ipython",
    "version": 3
   },
   "file_extension": ".py",
   "mimetype": "text/x-python",
   "name": "python",
   "nbconvert_exporter": "python",
   "pygments_lexer": "ipython3",
   "version": "3.11.2"
  }
 },
 "nbformat": 4,
 "nbformat_minor": 2
}
